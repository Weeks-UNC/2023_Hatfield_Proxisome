{
 "cells": [
  {
   "cell_type": "code",
   "execution_count": 1,
   "metadata": {},
   "outputs": [],
   "source": [
    "import rnavigate as rnav\n"
   ]
  },
  {
   "cell_type": "markdown",
   "metadata": {},
   "source": [
    "# Combining PAIR-MaP files for multi-amplicon RNA: \".bp\" files\n",
    "\n",
    "PairMapper calculates correlated chemical events from DMS-MaP data analyzed\n",
    "with ShapeMapper2. ShapeMapper2 can combine raw sequencing data from a multiple\n",
    "amplicon experiment thoughtfully to create a single profile. PairMapper is\n",
    "capable of analyzing this data. However, we were concerned that the areas of\n",
    "overlap, and the disparity of read depth between amplicons and overlapping\n",
    "regions could produce artifactual PAIRs that could bias structure prediction.\n",
    "\n",
    "Here, we \".bp\" files from amplicons that were analyzed individually in both\n",
    "ShapeMapper2 and PairMapper. These files contain PAIRs-derived base-pairing\n",
    "bonuses for input into structure prediction software.\n",
    "\n",
    "Algorithm:\n",
    "\n",
    "- PairMapper data from each amplicon is first reindexed to the full mRNA sequence using RNAvigate alignment features.\n",
    "- Aligned PairMapper data is compared between overlapping amplicons.\n",
    "  - Pairs occuring in 1 amplicon are kept.\n",
    "  - If a PAIR occurs in both amplicons, the PAIR with the larger pairing bonus (more negative) is kept.\n",
    "- The new data set is written to a new file with suffix \"-combined.bp\"\n",
    "\n",
    "Data sets for which this was performed:\n",
    "\n",
    "1. No tethering hairpin (TH) control (MCS) for both replicates\n",
    "2. TH inserted into 5'UTR\n",
    "3. TH inserted into 5' portion of coding sequence\n",
    "4. TH inserted into 3' portion of coding sequence\n",
    "5. TH inserted into 3'UTR"
   ]
  },
  {
   "cell_type": "code",
   "execution_count": 2,
   "metadata": {},
   "outputs": [],
   "source": [
    "def merge_amplicons(full, amp1, amp2, amp3):\n",
    "    p1 = amp1.data[\"bp_bonus\"]\n",
    "    p2 = amp2.data[\"bp_bonus\"]\n",
    "    p3 = amp3.data[\"bp_bonus\"]\n",
    "    full_seq = full.data[\"fasta\"]\n",
    "\n",
    "    columns = [col for col in p1.data.columns if col not in [\"i\", \"j\"]]\n",
    "\n",
    "    pm_amplicons = [p1, p2, p3]\n",
    "    for pm in pm_amplicons:\n",
    "        pm.filter(fit_to=full_seq)\n",
    "        pm.sequence = full_seq.sequence\n",
    "        pm.data[\"i\"] = pm.data[\"i_offset\"]\n",
    "        pm.data[\"j\"] = pm.data[\"j_offset\"]\n",
    "        pm.data.sort_values([\"i\", \"j\"], inplace=True)\n",
    "        if pm != p1:\n",
    "            p1.data = p1.data.merge(pm.data, how=\"outer\", on=[\"i\", \"j\"], suffixes=[\"\", \"_y\"], indicator=True)\n",
    "            for idx, row in p1.data.iterrows():\n",
    "                if row[\"_merge\"] == \"right_only\" or ((row[\"_merge\"] == \"both\") and (row[\"bonus\"] > row[\"bonus_y\"])):\n",
    "                    for col in columns:\n",
    "                        p1.data.loc[idx, col] = row[col+\"_y\"]\n",
    "            p1.data = p1.data[[\"i\", \"j\"] + columns]\n",
    "    amp1.data[\"bp_bonus\"].data = p1.data\n",
    "    amp1.data[\"bp_bonus\"].sequence = full_seq.sequence\n"
   ]
  },
  {
   "cell_type": "markdown",
   "metadata": {},
   "source": [
    "## MCS replicate 1"
   ]
  },
  {
   "cell_type": "code",
   "execution_count": 3,
   "metadata": {},
   "outputs": [
    {
     "name": "stderr",
     "output_type": "stream",
     "text": [
      "C:\\Users\\psirv\\OneDrive - University of North Carolina at Chapel Hill\\GitHub\\RNAvigate\\rnavigate\\data\\interactions.py:70: ParserWarning: Falling back to the 'python' engine because the 'c' engine does not support regex separators (separators > 1 char and different from '\\s+' are interpreted as regex); you can avoid this warning by specifying engine='python'.\n",
      "  self.data = pd.read_csv(filepath, sep=sep, **read_csv_kw)\n",
      "C:\\Users\\psirv\\OneDrive - University of North Carolina at Chapel Hill\\GitHub\\RNAvigate\\rnavigate\\data\\interactions.py:70: ParserWarning: Falling back to the 'python' engine because the 'c' engine does not support regex separators (separators > 1 char and different from '\\s+' are interpreted as regex); you can avoid this warning by specifying engine='python'.\n",
      "  self.data = pd.read_csv(filepath, sep=sep, **read_csv_kw)\n",
      "C:\\Users\\psirv\\OneDrive - University of North Carolina at Chapel Hill\\GitHub\\RNAvigate\\rnavigate\\data\\interactions.py:70: ParserWarning: Falling back to the 'python' engine because the 'c' engine does not support regex separators (separators > 1 char and different from '\\s+' are interpreted as regex); you can avoid this warning by specifying engine='python'.\n",
      "  self.data = pd.read_csv(filepath, sep=sep, **read_csv_kw)\n"
     ]
    }
   ],
   "source": [
    "\n",
    "kwargs = {'sep': '\\s',\n",
    "          'read_csv_kw': {'header':0, 'names':['i', 'j', 'bonus']},\n",
    "          'default_metric': 'bonus',\n",
    "          'fill':{'bonus':0}, 'cmaps':{'bonus':'viridis'}, 'mins_maxes':{'bonus':[-2,0]}}\n",
    "amp1 = rnav.Sample(dmsmap=\"./MCS/seperate/MCS-Rep1-Primer1_MCS_primer1_profile.txt\")\n",
    "amp1.data[\"bp_bonus\"] = rnav.data.Interactions(\n",
    "    filepath=\"./MCS/seperate/MCS-Rep1-Primer1.bp\",\n",
    "    sequence=amp1.data[\"dmsmap\"].sequence, **kwargs)\n",
    "amp2 = rnav.Sample(dmsmap=\"./MCS/seperate/MCS-Rep1-Primer2_MCS_primer2_profile.txt\")\n",
    "amp2.data[\"bp_bonus\"] = rnav.data.Interactions(\n",
    "    filepath=\"./MCS/seperate/MCS-Rep1-Primer2.bp\",\n",
    "    sequence=amp2.data[\"dmsmap\"].sequence, **kwargs)\n",
    "amp3 = rnav.Sample(dmsmap=\"./MCS/seperate/MCS-Rep1-Primer3_MCS_primer3_profile.txt\")\n",
    "amp3.data[\"bp_bonus\"] = rnav.data.Interactions(\n",
    "    filepath=\"./MCS/seperate/MCS-Rep1-Primer3.bp\",\n",
    "    sequence=amp3.data[\"dmsmap\"].sequence, **kwargs)\n",
    "full = rnav.Sample(\n",
    "    fasta=\"./MCS/MCS.fa\")\n",
    "samples = [full, amp1, amp2, amp3]\n",
    "\n",
    "merge_amplicons(*samples)\n",
    "\n",
    "csv = amp1.data[\"bp_bonus\"].data.to_csv(header=True, sep=' ', index=False, line_terminator='\\n')\n",
    "with open(\"MCS_rep1_combined.bp\", 'w') as out_file:\n",
    "    out_file.write('; ')\n",
    "    out_file.write(csv)\n"
   ]
  },
  {
   "cell_type": "markdown",
   "metadata": {},
   "source": [
    "## MCS replicate 2"
   ]
  },
  {
   "cell_type": "code",
   "execution_count": 4,
   "metadata": {},
   "outputs": [
    {
     "name": "stderr",
     "output_type": "stream",
     "text": [
      "C:\\Users\\psirv\\OneDrive - University of North Carolina at Chapel Hill\\GitHub\\RNAvigate\\rnavigate\\data\\interactions.py:70: ParserWarning: Falling back to the 'python' engine because the 'c' engine does not support regex separators (separators > 1 char and different from '\\s+' are interpreted as regex); you can avoid this warning by specifying engine='python'.\n",
      "  self.data = pd.read_csv(filepath, sep=sep, **read_csv_kw)\n",
      "C:\\Users\\psirv\\OneDrive - University of North Carolina at Chapel Hill\\GitHub\\RNAvigate\\rnavigate\\data\\interactions.py:70: ParserWarning: Falling back to the 'python' engine because the 'c' engine does not support regex separators (separators > 1 char and different from '\\s+' are interpreted as regex); you can avoid this warning by specifying engine='python'.\n",
      "  self.data = pd.read_csv(filepath, sep=sep, **read_csv_kw)\n",
      "C:\\Users\\psirv\\OneDrive - University of North Carolina at Chapel Hill\\GitHub\\RNAvigate\\rnavigate\\data\\interactions.py:70: ParserWarning: Falling back to the 'python' engine because the 'c' engine does not support regex separators (separators > 1 char and different from '\\s+' are interpreted as regex); you can avoid this warning by specifying engine='python'.\n",
      "  self.data = pd.read_csv(filepath, sep=sep, **read_csv_kw)\n"
     ]
    }
   ],
   "source": [
    "kwargs = {'sep': '\\s',\n",
    "          'read_csv_kw': {'header':0, 'names':['i', 'j', 'bonus']},\n",
    "          'default_metric': 'bonus',\n",
    "          'fill':{'bonus':0}, 'cmaps':{'bonus':'viridis'}, 'mins_maxes':{'bonus':[-2,0]}}\n",
    "amp1 = rnav.Sample(dmsmap=\"./MCS/seperate/MCS-Rep2-Primer1_MCS_primer1_profile.txt\")\n",
    "amp1.data[\"bp_bonus\"] = rnav.data.Interactions(\n",
    "    filepath=\"./MCS/seperate/MCS-Rep2-Primer1.bp\",\n",
    "    sequence=amp1.data[\"dmsmap\"].sequence, **kwargs)\n",
    "amp2 = rnav.Sample(dmsmap=\"./MCS/seperate/MCS-Rep2-Primer2_MCS_primer2_profile.txt\")\n",
    "amp2.data[\"bp_bonus\"] = rnav.data.Interactions(\n",
    "    filepath=\"./MCS/seperate/MCS-Rep2-Primer2.bp\",\n",
    "    sequence=amp2.data[\"dmsmap\"].sequence, **kwargs)\n",
    "amp3 = rnav.Sample(dmsmap=\"./MCS/seperate/MCS-Rep2-Primer3_MCS_primer3_profile.txt\")\n",
    "amp3.data[\"bp_bonus\"] = rnav.data.Interactions(\n",
    "    filepath=\"./MCS/seperate/MCS-Rep2-Primer3.bp\",\n",
    "    sequence=amp3.data[\"dmsmap\"].sequence, **kwargs)\n",
    "full = rnav.Sample(\n",
    "    sample=\"MCS rep 1: full sequence\",\n",
    "    fasta=\"./MCS/MCS.fa\",\n",
    "    dmsmap=\"./MCS/MCS_Rep2_MCS_profile.txt\",\n",
    "    pairmap=\"./MCS/MCS-Rep2-pairmap.txt\")\n",
    "samples = [full, amp1, amp2, amp3]\n",
    "\n",
    "merge_amplicons(*samples)\n",
    "\n",
    "csv = amp1.data[\"bp_bonus\"].data.to_csv(header=True, sep=' ', index=False, line_terminator='\\n')\n",
    "with open(\"MCS_rep2_combined.bp\", 'w') as out_file:\n",
    "    out_file.write('; ')\n",
    "    out_file.write(csv)\n"
   ]
  },
  {
   "cell_type": "markdown",
   "metadata": {},
   "source": [
    "## 5UTR"
   ]
  },
  {
   "cell_type": "code",
   "execution_count": 5,
   "metadata": {},
   "outputs": [
    {
     "name": "stderr",
     "output_type": "stream",
     "text": [
      "C:\\Users\\psirv\\OneDrive - University of North Carolina at Chapel Hill\\GitHub\\RNAvigate\\rnavigate\\data\\interactions.py:70: ParserWarning: Falling back to the 'python' engine because the 'c' engine does not support regex separators (separators > 1 char and different from '\\s+' are interpreted as regex); you can avoid this warning by specifying engine='python'.\n",
      "  self.data = pd.read_csv(filepath, sep=sep, **read_csv_kw)\n",
      "C:\\Users\\psirv\\OneDrive - University of North Carolina at Chapel Hill\\GitHub\\RNAvigate\\rnavigate\\data\\interactions.py:70: ParserWarning: Falling back to the 'python' engine because the 'c' engine does not support regex separators (separators > 1 char and different from '\\s+' are interpreted as regex); you can avoid this warning by specifying engine='python'.\n",
      "  self.data = pd.read_csv(filepath, sep=sep, **read_csv_kw)\n",
      "C:\\Users\\psirv\\OneDrive - University of North Carolina at Chapel Hill\\GitHub\\RNAvigate\\rnavigate\\data\\interactions.py:70: ParserWarning: Falling back to the 'python' engine because the 'c' engine does not support regex separators (separators > 1 char and different from '\\s+' are interpreted as regex); you can avoid this warning by specifying engine='python'.\n",
      "  self.data = pd.read_csv(filepath, sep=sep, **read_csv_kw)\n"
     ]
    }
   ],
   "source": [
    "kwargs = {'sep': '\\s',\n",
    "          'read_csv_kw': {'header':0, 'names':['i', 'j', 'bonus']},\n",
    "          'default_metric': 'bonus',\n",
    "          'fill':{'bonus':0}, 'cmaps':{'bonus':'viridis'}, 'mins_maxes':{'bonus':[-2,0]}}\n",
    "amp1 = rnav.Sample(dmsmap=\"./5UTR/seperate/5UTR_primer1_5UTR_primer1_profile.txt\")\n",
    "amp1.data[\"bp_bonus\"] = rnav.data.Interactions(\n",
    "    filepath='./5UTR/seperate/5UTR_primer1.bp',\n",
    "    sequence=amp1.data[\"dmsmap\"].sequence, **kwargs)\n",
    "amp2 = rnav.Sample(dmsmap=\"./5UTR/seperate/5UTR_primer2_5UTR_primer2_profile.txt\")\n",
    "amp2.data[\"bp_bonus\"] = rnav.data.Interactions(\n",
    "    filepath=\"./5UTR/seperate/5UTR_primer2.bp\",\n",
    "    sequence=amp2.data[\"dmsmap\"].sequence, **kwargs)\n",
    "amp3 = rnav.Sample(dmsmap=\"./5UTR/seperate/5UTR_primer3_5UTR_primer3_profile.txt\")\n",
    "amp3.data[\"bp_bonus\"] = rnav.data.Interactions(\n",
    "    filepath=\"./5UTR/seperate/5UTR_primer3.bp\",\n",
    "    sequence=amp3.data[\"dmsmap\"].sequence, **kwargs)\n",
    "full = rnav.Sample(fasta=\"./5UTR/5UTR.fa\")\n",
    "samples = [full, amp1, amp2, amp3]\n",
    "\n",
    "merge_amplicons(*samples)\n",
    "\n",
    "csv = amp1.data[\"bp_bonus\"].data.to_csv(header=True, sep=' ', index=False, line_terminator='\\n')\n",
    "with open(\"5UTR_combined.bp\", 'w') as out_file:\n",
    "    out_file.write('; ')\n",
    "    out_file.write(csv)\n"
   ]
  },
  {
   "cell_type": "markdown",
   "metadata": {},
   "source": [
    "## 3'UTR"
   ]
  },
  {
   "cell_type": "code",
   "execution_count": 6,
   "metadata": {},
   "outputs": [
    {
     "name": "stderr",
     "output_type": "stream",
     "text": [
      "C:\\Users\\psirv\\OneDrive - University of North Carolina at Chapel Hill\\GitHub\\RNAvigate\\rnavigate\\data\\interactions.py:70: ParserWarning: Falling back to the 'python' engine because the 'c' engine does not support regex separators (separators > 1 char and different from '\\s+' are interpreted as regex); you can avoid this warning by specifying engine='python'.\n",
      "  self.data = pd.read_csv(filepath, sep=sep, **read_csv_kw)\n",
      "C:\\Users\\psirv\\OneDrive - University of North Carolina at Chapel Hill\\GitHub\\RNAvigate\\rnavigate\\data\\interactions.py:70: ParserWarning: Falling back to the 'python' engine because the 'c' engine does not support regex separators (separators > 1 char and different from '\\s+' are interpreted as regex); you can avoid this warning by specifying engine='python'.\n",
      "  self.data = pd.read_csv(filepath, sep=sep, **read_csv_kw)\n",
      "C:\\Users\\psirv\\OneDrive - University of North Carolina at Chapel Hill\\GitHub\\RNAvigate\\rnavigate\\data\\interactions.py:70: ParserWarning: Falling back to the 'python' engine because the 'c' engine does not support regex separators (separators > 1 char and different from '\\s+' are interpreted as regex); you can avoid this warning by specifying engine='python'.\n",
      "  self.data = pd.read_csv(filepath, sep=sep, **read_csv_kw)\n"
     ]
    }
   ],
   "source": [
    "kwargs = {'sep': '\\s',\n",
    "          'read_csv_kw': {'header':0, 'names':['i', 'j', 'bonus']},\n",
    "          'default_metric': 'bonus',\n",
    "          'fill':{'bonus':0}, 'cmaps':{'bonus':'viridis'}, 'mins_maxes':{'bonus':[-2,0]}}\n",
    "amp1 = rnav.Sample(dmsmap=\"./3UTR/seperate/3UTR_primer1_3UTR_primer1_profile.txt\")\n",
    "amp1.data[\"bp_bonus\"] = rnav.data.Interactions(\n",
    "    filepath='./3UTR/seperate/3UTR_primer1.bp',\n",
    "    sequence=amp1.data[\"dmsmap\"].sequence, **kwargs)\n",
    "amp2 = rnav.Sample(dmsmap=\"./3UTR/seperate/3UTR_primer2_3UTR_primer2_profile.txt\")\n",
    "amp2.data[\"bp_bonus\"] = rnav.data.Interactions(\n",
    "    filepath=\"./3UTR/seperate/3UTR_primer2.bp\",\n",
    "    sequence=amp2.data[\"dmsmap\"].sequence, **kwargs)\n",
    "amp3 = rnav.Sample(dmsmap=\"./3UTR/seperate/3UTR_primer3_3UTR_primer3_profile.txt\")\n",
    "amp3.data[\"bp_bonus\"] = rnav.data.Interactions(\n",
    "    filepath=\"./3UTR/seperate/3UTR_primer3.bp\",\n",
    "    sequence=amp3.data[\"dmsmap\"].sequence, **kwargs)\n",
    "full = rnav.Sample(fasta=\"./3UTR/3UTR.fa\")\n",
    "samples = [full, amp1, amp2, amp3]\n",
    "\n",
    "merge_amplicons(*samples)\n",
    "\n",
    "csv = amp1.data[\"bp_bonus\"].data.to_csv(header=True, sep=' ', index=False, line_terminator='\\n')\n",
    "with open(\"3UTR_combined.bp\", 'w') as out_file:\n",
    "    out_file.write('; ')\n",
    "    out_file.write(csv)\n"
   ]
  },
  {
   "cell_type": "markdown",
   "metadata": {},
   "source": [
    "## CDS 1"
   ]
  },
  {
   "cell_type": "code",
   "execution_count": 7,
   "metadata": {},
   "outputs": [
    {
     "name": "stderr",
     "output_type": "stream",
     "text": [
      "C:\\Users\\psirv\\OneDrive - University of North Carolina at Chapel Hill\\GitHub\\RNAvigate\\rnavigate\\data\\interactions.py:70: ParserWarning: Falling back to the 'python' engine because the 'c' engine does not support regex separators (separators > 1 char and different from '\\s+' are interpreted as regex); you can avoid this warning by specifying engine='python'.\n",
      "  self.data = pd.read_csv(filepath, sep=sep, **read_csv_kw)\n",
      "C:\\Users\\psirv\\OneDrive - University of North Carolina at Chapel Hill\\GitHub\\RNAvigate\\rnavigate\\data\\interactions.py:70: ParserWarning: Falling back to the 'python' engine because the 'c' engine does not support regex separators (separators > 1 char and different from '\\s+' are interpreted as regex); you can avoid this warning by specifying engine='python'.\n",
      "  self.data = pd.read_csv(filepath, sep=sep, **read_csv_kw)\n",
      "C:\\Users\\psirv\\OneDrive - University of North Carolina at Chapel Hill\\GitHub\\RNAvigate\\rnavigate\\data\\interactions.py:70: ParserWarning: Falling back to the 'python' engine because the 'c' engine does not support regex separators (separators > 1 char and different from '\\s+' are interpreted as regex); you can avoid this warning by specifying engine='python'.\n",
      "  self.data = pd.read_csv(filepath, sep=sep, **read_csv_kw)\n"
     ]
    }
   ],
   "source": [
    "kwargs = {'sep': '\\s',\n",
    "          'read_csv_kw': {'header':0, 'names':['i', 'j', 'bonus']},\n",
    "          'default_metric': 'bonus',\n",
    "          'fill':{'bonus':0}, 'cmaps':{'bonus':'viridis'}, 'mins_maxes':{'bonus':[-2,0]}}\n",
    "amp1 = rnav.Sample(dmsmap=\"./CDS1/seperate/CDS1_primer1_CDS1_primer1_profile.txt\")\n",
    "amp1.data[\"bp_bonus\"] = rnav.data.Interactions(\n",
    "    filepath='./CDS1/seperate/CDS1_primer1.bp',\n",
    "    sequence=amp1.data[\"dmsmap\"].sequence, **kwargs)\n",
    "amp2 = rnav.Sample(dmsmap=\"./CDS1/seperate/CDS1_primer2_CDS1_primer2_profile.txt\")\n",
    "amp2.data[\"bp_bonus\"] = rnav.data.Interactions(\n",
    "    filepath=\"./CDS1/seperate/CDS1_primer2.bp\",\n",
    "    sequence=amp2.data[\"dmsmap\"].sequence, **kwargs)\n",
    "amp3 = rnav.Sample(dmsmap=\"./CDS1/seperate/CDS1_primer3_CDS1_primer3_profile.txt\")\n",
    "amp3.data[\"bp_bonus\"] = rnav.data.Interactions(\n",
    "    filepath=\"./CDS1/seperate/CDS1_primer3.bp\",\n",
    "    sequence=amp3.data[\"dmsmap\"].sequence, **kwargs)\n",
    "full = rnav.Sample(fasta=\"./CDS1/CDS1.fa\")\n",
    "samples = [full, amp1, amp2, amp3]\n",
    "\n",
    "merge_amplicons(*samples)\n",
    "\n",
    "csv = amp1.data[\"bp_bonus\"].data.to_csv(header=True, sep=' ', index=False, line_terminator='\\n')\n",
    "with open(\"CDS1_combined.bp\", 'w') as out_file:\n",
    "    out_file.write('; ')\n",
    "    out_file.write(csv)\n"
   ]
  },
  {
   "cell_type": "markdown",
   "metadata": {},
   "source": [
    "## CDS 3"
   ]
  },
  {
   "cell_type": "code",
   "execution_count": 8,
   "metadata": {},
   "outputs": [
    {
     "name": "stderr",
     "output_type": "stream",
     "text": [
      "C:\\Users\\psirv\\OneDrive - University of North Carolina at Chapel Hill\\GitHub\\RNAvigate\\rnavigate\\data\\interactions.py:70: ParserWarning: Falling back to the 'python' engine because the 'c' engine does not support regex separators (separators > 1 char and different from '\\s+' are interpreted as regex); you can avoid this warning by specifying engine='python'.\n",
      "  self.data = pd.read_csv(filepath, sep=sep, **read_csv_kw)\n",
      "C:\\Users\\psirv\\OneDrive - University of North Carolina at Chapel Hill\\GitHub\\RNAvigate\\rnavigate\\data\\interactions.py:70: ParserWarning: Falling back to the 'python' engine because the 'c' engine does not support regex separators (separators > 1 char and different from '\\s+' are interpreted as regex); you can avoid this warning by specifying engine='python'.\n",
      "  self.data = pd.read_csv(filepath, sep=sep, **read_csv_kw)\n",
      "C:\\Users\\psirv\\OneDrive - University of North Carolina at Chapel Hill\\GitHub\\RNAvigate\\rnavigate\\data\\interactions.py:70: ParserWarning: Falling back to the 'python' engine because the 'c' engine does not support regex separators (separators > 1 char and different from '\\s+' are interpreted as regex); you can avoid this warning by specifying engine='python'.\n",
      "  self.data = pd.read_csv(filepath, sep=sep, **read_csv_kw)\n"
     ]
    }
   ],
   "source": [
    "kwargs = {'sep': '\\s',\n",
    "          'read_csv_kw': {'header':0, 'names':['i', 'j', 'bonus']},\n",
    "          'default_metric': 'bonus',\n",
    "          'fill':{'bonus':0}, 'cmaps':{'bonus':'viridis'}, 'mins_maxes':{'bonus':[-2,0]}}\n",
    "amp1 = rnav.Sample(dmsmap=\"./CDS3/seperate/CDS3_primer1_CDS3_primer1_profile.txt\")\n",
    "amp1.data[\"bp_bonus\"] = rnav.data.Interactions(\n",
    "    filepath='./CDS3/seperate/CDS3_primer1.bp',\n",
    "    sequence=amp1.data[\"dmsmap\"].sequence, **kwargs)\n",
    "amp2 = rnav.Sample(dmsmap=\"./CDS3/seperate/CDS3_primer2_CDS3_primer2_profile.txt\")\n",
    "amp2.data[\"bp_bonus\"] = rnav.data.Interactions(\n",
    "    filepath=\"./CDS3/seperate/CDS3_primer2.bp\",\n",
    "    sequence=amp2.data[\"dmsmap\"].sequence, **kwargs)\n",
    "amp3 = rnav.Sample(dmsmap=\"./CDS3/seperate/CDS3_primer3_CDS3_primer3_profile.txt\")\n",
    "amp3.data[\"bp_bonus\"] = rnav.data.Interactions(\n",
    "    filepath=\"./CDS3/seperate/CDS3_primer3.bp\",\n",
    "    sequence=amp3.data[\"dmsmap\"].sequence, **kwargs)\n",
    "full = rnav.Sample(fasta=\"./CDS3/CDS3.fa\")\n",
    "samples = [full, amp1, amp2, amp3]\n",
    "\n",
    "merge_amplicons(*samples)\n",
    "\n",
    "csv = amp1.data[\"bp_bonus\"].data.to_csv(header=True, sep=' ', index=False, line_terminator='\\n')\n",
    "with open(\"CDS3_combined.bp\", 'w') as out_file:\n",
    "    out_file.write('; ')\n",
    "    out_file.write(csv)\n"
   ]
  },
  {
   "cell_type": "code",
   "execution_count": null,
   "metadata": {},
   "outputs": [],
   "source": []
  }
 ],
 "metadata": {
  "kernelspec": {
   "display_name": "RNAvigate",
   "language": "python",
   "name": "python3"
  },
  "language_info": {
   "codemirror_mode": {
    "name": "ipython",
    "version": 3
   },
   "file_extension": ".py",
   "mimetype": "text/x-python",
   "name": "python",
   "nbconvert_exporter": "python",
   "pygments_lexer": "ipython3",
   "version": "3.9.2"
  },
  "orig_nbformat": 4
 },
 "nbformat": 4,
 "nbformat_minor": 2
}
